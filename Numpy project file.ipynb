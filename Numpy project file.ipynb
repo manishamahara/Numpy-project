{
 "cells": [
  {
   "cell_type": "code",
   "execution_count": 1,
   "metadata": {},
   "outputs": [],
   "source": [
    "import pandas as pd\n",
    "import numpy as np"
   ]
  },
  {
   "cell_type": "code",
   "execution_count": 2,
   "metadata": {},
   "outputs": [],
   "source": [
    "data = pd.read_csv('car-prices_unclean - car-prices_unclean.csv.csv')"
   ]
  },
  {
   "cell_type": "code",
   "execution_count": 3,
   "metadata": {},
   "outputs": [
    {
     "data": {
      "text/html": [
       "<div>\n",
       "<style scoped>\n",
       "    .dataframe tbody tr th:only-of-type {\n",
       "        vertical-align: middle;\n",
       "    }\n",
       "\n",
       "    .dataframe tbody tr th {\n",
       "        vertical-align: top;\n",
       "    }\n",
       "\n",
       "    .dataframe thead th {\n",
       "        text-align: right;\n",
       "    }\n",
       "</style>\n",
       "<table border=\"1\" class=\"dataframe\">\n",
       "  <thead>\n",
       "    <tr style=\"text-align: right;\">\n",
       "      <th></th>\n",
       "      <th>Unnamed: 0</th>\n",
       "      <th>car_ID</th>\n",
       "      <th>symboling</th>\n",
       "      <th>CarName</th>\n",
       "      <th>fueltype</th>\n",
       "      <th>aspiration</th>\n",
       "      <th>doornumber</th>\n",
       "      <th>carbody</th>\n",
       "      <th>drivewheel</th>\n",
       "      <th>enginelocation</th>\n",
       "      <th>...</th>\n",
       "      <th>fuelsystem</th>\n",
       "      <th>boreratio</th>\n",
       "      <th>stroke</th>\n",
       "      <th>compressionratio</th>\n",
       "      <th>horsepower</th>\n",
       "      <th>peakrpm</th>\n",
       "      <th>citympg</th>\n",
       "      <th>highwaympg</th>\n",
       "      <th>price</th>\n",
       "      <th>Untitled</th>\n",
       "    </tr>\n",
       "  </thead>\n",
       "  <tbody>\n",
       "    <tr>\n",
       "      <th>0</th>\n",
       "      <td>0</td>\n",
       "      <td>1.0</td>\n",
       "      <td>NaN</td>\n",
       "      <td>alfa-romero giulia</td>\n",
       "      <td>gas</td>\n",
       "      <td>std</td>\n",
       "      <td>two</td>\n",
       "      <td>convertible</td>\n",
       "      <td>rwd</td>\n",
       "      <td>front</td>\n",
       "      <td>...</td>\n",
       "      <td>mpfi</td>\n",
       "      <td>3.47</td>\n",
       "      <td>2.68</td>\n",
       "      <td>9.0</td>\n",
       "      <td>111</td>\n",
       "      <td>5000</td>\n",
       "      <td>21</td>\n",
       "      <td>27</td>\n",
       "      <td>13495.0</td>\n",
       "      <td>NaN</td>\n",
       "    </tr>\n",
       "    <tr>\n",
       "      <th>1</th>\n",
       "      <td>1</td>\n",
       "      <td>2.0</td>\n",
       "      <td>3.0</td>\n",
       "      <td>alfa-romero stelvio</td>\n",
       "      <td>NaN</td>\n",
       "      <td>std</td>\n",
       "      <td>two</td>\n",
       "      <td>convertible</td>\n",
       "      <td>rwd</td>\n",
       "      <td>front</td>\n",
       "      <td>...</td>\n",
       "      <td>mpfi</td>\n",
       "      <td>3.47</td>\n",
       "      <td>2.68</td>\n",
       "      <td>9.0</td>\n",
       "      <td>111</td>\n",
       "      <td>5000</td>\n",
       "      <td>21</td>\n",
       "      <td>27</td>\n",
       "      <td>16500.0</td>\n",
       "      <td>NaN</td>\n",
       "    </tr>\n",
       "    <tr>\n",
       "      <th>2</th>\n",
       "      <td>2</td>\n",
       "      <td>NaN</td>\n",
       "      <td>NaN</td>\n",
       "      <td>alfa-romero Quadrifoglio</td>\n",
       "      <td>NaN</td>\n",
       "      <td>std</td>\n",
       "      <td>two</td>\n",
       "      <td>hatchback</td>\n",
       "      <td>rwd</td>\n",
       "      <td>front</td>\n",
       "      <td>...</td>\n",
       "      <td>mpfi</td>\n",
       "      <td>2.68</td>\n",
       "      <td>3.47</td>\n",
       "      <td>9.0</td>\n",
       "      <td>154</td>\n",
       "      <td>5000</td>\n",
       "      <td>19</td>\n",
       "      <td>26</td>\n",
       "      <td>16500.0</td>\n",
       "      <td>NaN</td>\n",
       "    </tr>\n",
       "    <tr>\n",
       "      <th>3</th>\n",
       "      <td>3</td>\n",
       "      <td>4.0</td>\n",
       "      <td>2.0</td>\n",
       "      <td>audi 100 ls</td>\n",
       "      <td>gas</td>\n",
       "      <td>std</td>\n",
       "      <td>four</td>\n",
       "      <td>sedan</td>\n",
       "      <td>fwd</td>\n",
       "      <td>front</td>\n",
       "      <td>...</td>\n",
       "      <td>mpfi</td>\n",
       "      <td>3.19</td>\n",
       "      <td>3.40</td>\n",
       "      <td>10.0</td>\n",
       "      <td>102</td>\n",
       "      <td>5500</td>\n",
       "      <td>24</td>\n",
       "      <td>30</td>\n",
       "      <td>13950.0</td>\n",
       "      <td>NaN</td>\n",
       "    </tr>\n",
       "    <tr>\n",
       "      <th>4</th>\n",
       "      <td>4</td>\n",
       "      <td>NaN</td>\n",
       "      <td>2.0</td>\n",
       "      <td>audi 100ls</td>\n",
       "      <td>gas</td>\n",
       "      <td>std</td>\n",
       "      <td>four</td>\n",
       "      <td>sedan</td>\n",
       "      <td>4wd</td>\n",
       "      <td>front</td>\n",
       "      <td>...</td>\n",
       "      <td>mpfi</td>\n",
       "      <td>3.19</td>\n",
       "      <td>3.40</td>\n",
       "      <td>8.0</td>\n",
       "      <td>115</td>\n",
       "      <td>5500</td>\n",
       "      <td>18</td>\n",
       "      <td>22</td>\n",
       "      <td>17450.0</td>\n",
       "      <td>NaN</td>\n",
       "    </tr>\n",
       "  </tbody>\n",
       "</table>\n",
       "<p>5 rows × 28 columns</p>\n",
       "</div>"
      ],
      "text/plain": [
       "   Unnamed: 0  car_ID  symboling                   CarName fueltype  \\\n",
       "0           0     1.0        NaN        alfa-romero giulia      gas   \n",
       "1           1     2.0        3.0       alfa-romero stelvio      NaN   \n",
       "2           2     NaN        NaN  alfa-romero Quadrifoglio      NaN   \n",
       "3           3     4.0        2.0               audi 100 ls      gas   \n",
       "4           4     NaN        2.0                audi 100ls      gas   \n",
       "\n",
       "  aspiration doornumber      carbody drivewheel enginelocation  ...  \\\n",
       "0        std        two  convertible        rwd          front  ...   \n",
       "1        std        two  convertible        rwd          front  ...   \n",
       "2        std        two    hatchback        rwd          front  ...   \n",
       "3        std       four        sedan        fwd          front  ...   \n",
       "4        std       four        sedan        4wd          front  ...   \n",
       "\n",
       "   fuelsystem  boreratio  stroke  compressionratio  horsepower peakrpm  \\\n",
       "0        mpfi       3.47    2.68               9.0         111    5000   \n",
       "1        mpfi       3.47    2.68               9.0         111    5000   \n",
       "2        mpfi       2.68    3.47               9.0         154    5000   \n",
       "3        mpfi       3.19    3.40              10.0         102    5500   \n",
       "4        mpfi       3.19    3.40               8.0         115    5500   \n",
       "\n",
       "  citympg  highwaympg    price  Untitled  \n",
       "0      21          27  13495.0       NaN  \n",
       "1      21          27  16500.0       NaN  \n",
       "2      19          26  16500.0       NaN  \n",
       "3      24          30  13950.0       NaN  \n",
       "4      18          22  17450.0       NaN  \n",
       "\n",
       "[5 rows x 28 columns]"
      ]
     },
     "execution_count": 3,
     "metadata": {},
     "output_type": "execute_result"
    }
   ],
   "source": [
    "data.head()"
   ]
  },
  {
   "cell_type": "code",
   "execution_count": 4,
   "metadata": {},
   "outputs": [
    {
     "data": {
      "text/plain": [
       "(205, 28)"
      ]
     },
     "execution_count": 4,
     "metadata": {},
     "output_type": "execute_result"
    }
   ],
   "source": [
    "data.shape"
   ]
  },
  {
   "cell_type": "code",
   "execution_count": 5,
   "metadata": {},
   "outputs": [
    {
     "data": {
      "text/plain": [
       "<bound method DataFrame.info of      Unnamed: 0  car_ID  symboling                   CarName fueltype  \\\n",
       "0             0     1.0        NaN        alfa-romero giulia      gas   \n",
       "1             1     2.0        3.0       alfa-romero stelvio      NaN   \n",
       "2             2     NaN        NaN  alfa-romero Quadrifoglio      NaN   \n",
       "3             3     4.0        2.0               audi 100 ls      gas   \n",
       "4             4     NaN        2.0                audi 100ls      gas   \n",
       "..          ...     ...        ...                       ...      ...   \n",
       "200         200   201.0       -1.0           volvo 145e (sw)      gas   \n",
       "201         201   202.0        NaN               volvo 144ea      NaN   \n",
       "202         202   203.0        NaN               volvo 244dl      gas   \n",
       "203         203     NaN        NaN                 volvo 246   diesel   \n",
       "204         204   205.0       -1.0               volvo 264gl      gas   \n",
       "\n",
       "    aspiration doornumber      carbody drivewheel enginelocation  ...  \\\n",
       "0          std        two  convertible        rwd          front  ...   \n",
       "1          std        two  convertible        rwd          front  ...   \n",
       "2          std        two    hatchback        rwd          front  ...   \n",
       "3          std       four        sedan        fwd          front  ...   \n",
       "4          std       four        sedan        4wd          front  ...   \n",
       "..         ...        ...          ...        ...            ...  ...   \n",
       "200        std       four        sedan        rwd          front  ...   \n",
       "201      turbo       four        sedan        rwd          front  ...   \n",
       "202        std       four        sedan        rwd          front  ...   \n",
       "203      turbo       four        sedan        rwd          front  ...   \n",
       "204      turbo       four        sedan        rwd          front  ...   \n",
       "\n",
       "     fuelsystem  boreratio  stroke  compressionratio  horsepower peakrpm  \\\n",
       "0          mpfi       3.47    2.68               9.0         111    5000   \n",
       "1          mpfi       3.47    2.68               9.0         111    5000   \n",
       "2          mpfi       2.68    3.47               9.0         154    5000   \n",
       "3          mpfi       3.19    3.40              10.0         102    5500   \n",
       "4          mpfi       3.19    3.40               8.0         115    5500   \n",
       "..          ...        ...     ...               ...         ...     ...   \n",
       "200        mpfi       3.78    3.15               9.5         114    5400   \n",
       "201        mpfi       3.78    3.15               8.7         160    5300   \n",
       "202        mpfi       3.58    2.87               8.8         134    5500   \n",
       "203         idi       3.01    3.40              23.0         106    4800   \n",
       "204        mpfi       3.78    3.15               9.5         114    5400   \n",
       "\n",
       "    citympg  highwaympg    price  Untitled  \n",
       "0        21          27  13495.0       NaN  \n",
       "1        21          27  16500.0       NaN  \n",
       "2        19          26  16500.0       NaN  \n",
       "3        24          30  13950.0       NaN  \n",
       "4        18          22  17450.0       NaN  \n",
       "..      ...         ...      ...       ...  \n",
       "200      23          28      NaN       NaN  \n",
       "201      19          25  19045.0       NaN  \n",
       "202      18          23  21485.0       NaN  \n",
       "203      26          27  22470.0       NaN  \n",
       "204      19          25  22625.0       NaN  \n",
       "\n",
       "[205 rows x 28 columns]>"
      ]
     },
     "execution_count": 5,
     "metadata": {},
     "output_type": "execute_result"
    }
   ],
   "source": [
    "data.info"
   ]
  },
  {
   "cell_type": "code",
   "execution_count": 6,
   "metadata": {},
   "outputs": [
    {
     "data": {
      "text/plain": [
       "Unnamed: 0            0\n",
       "car_ID               41\n",
       "symboling            41\n",
       "CarName               0\n",
       "fueltype             41\n",
       "aspiration            0\n",
       "doornumber            0\n",
       "carbody               0\n",
       "drivewheel            0\n",
       "enginelocation        0\n",
       "wheelbase             0\n",
       "carlength             0\n",
       "carwidth              0\n",
       "carheight             0\n",
       "curbweight            0\n",
       "enginetype            0\n",
       "cylindernumber        0\n",
       "enginesize            0\n",
       "fuelsystem            0\n",
       "boreratio             0\n",
       "stroke                0\n",
       "compressionratio      0\n",
       "horsepower            0\n",
       "peakrpm               0\n",
       "citympg               0\n",
       "highwaympg            0\n",
       "price                41\n",
       "Untitled            205\n",
       "dtype: int64"
      ]
     },
     "execution_count": 6,
     "metadata": {},
     "output_type": "execute_result"
    }
   ],
   "source": [
    "data.isnull().sum()"
   ]
  },
  {
   "cell_type": "code",
   "execution_count": 7,
   "metadata": {},
   "outputs": [
    {
     "data": {
      "text/plain": [
       "0"
      ]
     },
     "execution_count": 7,
     "metadata": {},
     "output_type": "execute_result"
    }
   ],
   "source": [
    "data.duplicated().sum()"
   ]
  },
  {
   "cell_type": "code",
   "execution_count": 8,
   "metadata": {},
   "outputs": [
    {
     "data": {
      "text/plain": [
       "0"
      ]
     },
     "execution_count": 8,
     "metadata": {},
     "output_type": "execute_result"
    }
   ],
   "source": [
    "data.duplicated().sum()"
   ]
  },
  {
   "cell_type": "code",
   "execution_count": 9,
   "metadata": {},
   "outputs": [
    {
     "data": {
      "text/html": [
       "<div>\n",
       "<style scoped>\n",
       "    .dataframe tbody tr th:only-of-type {\n",
       "        vertical-align: middle;\n",
       "    }\n",
       "\n",
       "    .dataframe tbody tr th {\n",
       "        vertical-align: top;\n",
       "    }\n",
       "\n",
       "    .dataframe thead th {\n",
       "        text-align: right;\n",
       "    }\n",
       "</style>\n",
       "<table border=\"1\" class=\"dataframe\">\n",
       "  <thead>\n",
       "    <tr style=\"text-align: right;\">\n",
       "      <th></th>\n",
       "      <th>Unnamed: 0</th>\n",
       "      <th>car_ID</th>\n",
       "      <th>symboling</th>\n",
       "      <th>wheelbase</th>\n",
       "      <th>carlength</th>\n",
       "      <th>carwidth</th>\n",
       "      <th>carheight</th>\n",
       "      <th>curbweight</th>\n",
       "      <th>enginesize</th>\n",
       "      <th>boreratio</th>\n",
       "      <th>stroke</th>\n",
       "      <th>compressionratio</th>\n",
       "      <th>horsepower</th>\n",
       "      <th>peakrpm</th>\n",
       "      <th>citympg</th>\n",
       "      <th>highwaympg</th>\n",
       "      <th>price</th>\n",
       "      <th>Untitled</th>\n",
       "    </tr>\n",
       "  </thead>\n",
       "  <tbody>\n",
       "    <tr>\n",
       "      <th>count</th>\n",
       "      <td>205.000000</td>\n",
       "      <td>164.000000</td>\n",
       "      <td>164.000000</td>\n",
       "      <td>205.000000</td>\n",
       "      <td>205.000000</td>\n",
       "      <td>205.000000</td>\n",
       "      <td>205.000000</td>\n",
       "      <td>205.000000</td>\n",
       "      <td>205.000000</td>\n",
       "      <td>205.000000</td>\n",
       "      <td>205.000000</td>\n",
       "      <td>205.000000</td>\n",
       "      <td>205.000000</td>\n",
       "      <td>205.000000</td>\n",
       "      <td>205.000000</td>\n",
       "      <td>205.000000</td>\n",
       "      <td>164.000000</td>\n",
       "      <td>0.0</td>\n",
       "    </tr>\n",
       "    <tr>\n",
       "      <th>mean</th>\n",
       "      <td>102.000000</td>\n",
       "      <td>105.707317</td>\n",
       "      <td>0.841463</td>\n",
       "      <td>98.756585</td>\n",
       "      <td>174.049268</td>\n",
       "      <td>65.907805</td>\n",
       "      <td>53.724878</td>\n",
       "      <td>2555.565854</td>\n",
       "      <td>126.907317</td>\n",
       "      <td>3.329756</td>\n",
       "      <td>3.255415</td>\n",
       "      <td>10.142537</td>\n",
       "      <td>104.117073</td>\n",
       "      <td>5125.121951</td>\n",
       "      <td>25.219512</td>\n",
       "      <td>30.751220</td>\n",
       "      <td>13546.644311</td>\n",
       "      <td>NaN</td>\n",
       "    </tr>\n",
       "    <tr>\n",
       "      <th>std</th>\n",
       "      <td>59.322565</td>\n",
       "      <td>59.278792</td>\n",
       "      <td>1.257805</td>\n",
       "      <td>6.021776</td>\n",
       "      <td>12.337289</td>\n",
       "      <td>2.145204</td>\n",
       "      <td>2.443522</td>\n",
       "      <td>520.680204</td>\n",
       "      <td>41.642693</td>\n",
       "      <td>0.270844</td>\n",
       "      <td>0.313597</td>\n",
       "      <td>3.972040</td>\n",
       "      <td>39.544167</td>\n",
       "      <td>476.985643</td>\n",
       "      <td>6.542142</td>\n",
       "      <td>6.886443</td>\n",
       "      <td>7986.947115</td>\n",
       "      <td>NaN</td>\n",
       "    </tr>\n",
       "    <tr>\n",
       "      <th>min</th>\n",
       "      <td>0.000000</td>\n",
       "      <td>1.000000</td>\n",
       "      <td>-2.000000</td>\n",
       "      <td>86.600000</td>\n",
       "      <td>141.100000</td>\n",
       "      <td>60.300000</td>\n",
       "      <td>47.800000</td>\n",
       "      <td>1488.000000</td>\n",
       "      <td>61.000000</td>\n",
       "      <td>2.540000</td>\n",
       "      <td>2.070000</td>\n",
       "      <td>7.000000</td>\n",
       "      <td>48.000000</td>\n",
       "      <td>4150.000000</td>\n",
       "      <td>13.000000</td>\n",
       "      <td>16.000000</td>\n",
       "      <td>5118.000000</td>\n",
       "      <td>NaN</td>\n",
       "    </tr>\n",
       "    <tr>\n",
       "      <th>25%</th>\n",
       "      <td>51.000000</td>\n",
       "      <td>57.750000</td>\n",
       "      <td>0.000000</td>\n",
       "      <td>94.500000</td>\n",
       "      <td>166.300000</td>\n",
       "      <td>64.100000</td>\n",
       "      <td>52.000000</td>\n",
       "      <td>2145.000000</td>\n",
       "      <td>97.000000</td>\n",
       "      <td>3.150000</td>\n",
       "      <td>3.110000</td>\n",
       "      <td>8.600000</td>\n",
       "      <td>70.000000</td>\n",
       "      <td>4800.000000</td>\n",
       "      <td>19.000000</td>\n",
       "      <td>25.000000</td>\n",
       "      <td>7957.000000</td>\n",
       "      <td>NaN</td>\n",
       "    </tr>\n",
       "    <tr>\n",
       "      <th>50%</th>\n",
       "      <td>102.000000</td>\n",
       "      <td>105.500000</td>\n",
       "      <td>1.000000</td>\n",
       "      <td>97.000000</td>\n",
       "      <td>173.200000</td>\n",
       "      <td>65.500000</td>\n",
       "      <td>54.100000</td>\n",
       "      <td>2414.000000</td>\n",
       "      <td>120.000000</td>\n",
       "      <td>3.310000</td>\n",
       "      <td>3.290000</td>\n",
       "      <td>9.000000</td>\n",
       "      <td>95.000000</td>\n",
       "      <td>5200.000000</td>\n",
       "      <td>24.000000</td>\n",
       "      <td>30.000000</td>\n",
       "      <td>10798.000000</td>\n",
       "      <td>NaN</td>\n",
       "    </tr>\n",
       "    <tr>\n",
       "      <th>75%</th>\n",
       "      <td>153.000000</td>\n",
       "      <td>159.250000</td>\n",
       "      <td>2.000000</td>\n",
       "      <td>102.400000</td>\n",
       "      <td>183.100000</td>\n",
       "      <td>66.900000</td>\n",
       "      <td>55.500000</td>\n",
       "      <td>2935.000000</td>\n",
       "      <td>141.000000</td>\n",
       "      <td>3.580000</td>\n",
       "      <td>3.410000</td>\n",
       "      <td>9.400000</td>\n",
       "      <td>116.000000</td>\n",
       "      <td>5500.000000</td>\n",
       "      <td>30.000000</td>\n",
       "      <td>34.000000</td>\n",
       "      <td>16506.000000</td>\n",
       "      <td>NaN</td>\n",
       "    </tr>\n",
       "    <tr>\n",
       "      <th>max</th>\n",
       "      <td>204.000000</td>\n",
       "      <td>205.000000</td>\n",
       "      <td>3.000000</td>\n",
       "      <td>120.900000</td>\n",
       "      <td>208.100000</td>\n",
       "      <td>72.300000</td>\n",
       "      <td>59.800000</td>\n",
       "      <td>4066.000000</td>\n",
       "      <td>326.000000</td>\n",
       "      <td>3.940000</td>\n",
       "      <td>4.170000</td>\n",
       "      <td>23.000000</td>\n",
       "      <td>288.000000</td>\n",
       "      <td>6600.000000</td>\n",
       "      <td>49.000000</td>\n",
       "      <td>54.000000</td>\n",
       "      <td>41315.000000</td>\n",
       "      <td>NaN</td>\n",
       "    </tr>\n",
       "  </tbody>\n",
       "</table>\n",
       "</div>"
      ],
      "text/plain": [
       "       Unnamed: 0      car_ID   symboling   wheelbase   carlength    carwidth  \\\n",
       "count  205.000000  164.000000  164.000000  205.000000  205.000000  205.000000   \n",
       "mean   102.000000  105.707317    0.841463   98.756585  174.049268   65.907805   \n",
       "std     59.322565   59.278792    1.257805    6.021776   12.337289    2.145204   \n",
       "min      0.000000    1.000000   -2.000000   86.600000  141.100000   60.300000   \n",
       "25%     51.000000   57.750000    0.000000   94.500000  166.300000   64.100000   \n",
       "50%    102.000000  105.500000    1.000000   97.000000  173.200000   65.500000   \n",
       "75%    153.000000  159.250000    2.000000  102.400000  183.100000   66.900000   \n",
       "max    204.000000  205.000000    3.000000  120.900000  208.100000   72.300000   \n",
       "\n",
       "        carheight   curbweight  enginesize   boreratio      stroke  \\\n",
       "count  205.000000   205.000000  205.000000  205.000000  205.000000   \n",
       "mean    53.724878  2555.565854  126.907317    3.329756    3.255415   \n",
       "std      2.443522   520.680204   41.642693    0.270844    0.313597   \n",
       "min     47.800000  1488.000000   61.000000    2.540000    2.070000   \n",
       "25%     52.000000  2145.000000   97.000000    3.150000    3.110000   \n",
       "50%     54.100000  2414.000000  120.000000    3.310000    3.290000   \n",
       "75%     55.500000  2935.000000  141.000000    3.580000    3.410000   \n",
       "max     59.800000  4066.000000  326.000000    3.940000    4.170000   \n",
       "\n",
       "       compressionratio  horsepower      peakrpm     citympg  highwaympg  \\\n",
       "count        205.000000  205.000000   205.000000  205.000000  205.000000   \n",
       "mean          10.142537  104.117073  5125.121951   25.219512   30.751220   \n",
       "std            3.972040   39.544167   476.985643    6.542142    6.886443   \n",
       "min            7.000000   48.000000  4150.000000   13.000000   16.000000   \n",
       "25%            8.600000   70.000000  4800.000000   19.000000   25.000000   \n",
       "50%            9.000000   95.000000  5200.000000   24.000000   30.000000   \n",
       "75%            9.400000  116.000000  5500.000000   30.000000   34.000000   \n",
       "max           23.000000  288.000000  6600.000000   49.000000   54.000000   \n",
       "\n",
       "              price  Untitled  \n",
       "count    164.000000       0.0  \n",
       "mean   13546.644311       NaN  \n",
       "std     7986.947115       NaN  \n",
       "min     5118.000000       NaN  \n",
       "25%     7957.000000       NaN  \n",
       "50%    10798.000000       NaN  \n",
       "75%    16506.000000       NaN  \n",
       "max    41315.000000       NaN  "
      ]
     },
     "execution_count": 9,
     "metadata": {},
     "output_type": "execute_result"
    }
   ],
   "source": [
    "data.describe()"
   ]
  },
  {
   "cell_type": "code",
   "execution_count": 10,
   "metadata": {},
   "outputs": [],
   "source": [
    "a = np.array(data['car_ID'])"
   ]
  },
  {
   "cell_type": "code",
   "execution_count": 11,
   "metadata": {},
   "outputs": [
    {
     "data": {
      "text/plain": [
       "nan"
      ]
     },
     "execution_count": 11,
     "metadata": {},
     "output_type": "execute_result"
    }
   ],
   "source": [
    "np.mean(a)"
   ]
  },
  {
   "cell_type": "code",
   "execution_count": 12,
   "metadata": {},
   "outputs": [
    {
     "data": {
      "text/plain": [
       "nan"
      ]
     },
     "execution_count": 12,
     "metadata": {},
     "output_type": "execute_result"
    }
   ],
   "source": [
    "np.median(a)"
   ]
  },
  {
   "cell_type": "code",
   "execution_count": 13,
   "metadata": {},
   "outputs": [],
   "source": [
    "b = np.array(data['Unnamed: 0'])"
   ]
  },
  {
   "cell_type": "code",
   "execution_count": 14,
   "metadata": {},
   "outputs": [
    {
     "data": {
      "text/plain": [
       "102.0"
      ]
     },
     "execution_count": 14,
     "metadata": {},
     "output_type": "execute_result"
    }
   ],
   "source": [
    "np.mean(b)"
   ]
  },
  {
   "cell_type": "code",
   "execution_count": 15,
   "metadata": {},
   "outputs": [
    {
     "data": {
      "text/plain": [
       "102.0"
      ]
     },
     "execution_count": 15,
     "metadata": {},
     "output_type": "execute_result"
    }
   ],
   "source": [
    "np.median(b)"
   ]
  },
  {
   "cell_type": "code",
   "execution_count": 16,
   "metadata": {},
   "outputs": [
    {
     "data": {
      "text/plain": [
       "204"
      ]
     },
     "execution_count": 16,
     "metadata": {},
     "output_type": "execute_result"
    }
   ],
   "source": [
    "np.max(b)"
   ]
  },
  {
   "cell_type": "code",
   "execution_count": 17,
   "metadata": {},
   "outputs": [
    {
     "data": {
      "text/plain": [
       "0"
      ]
     },
     "execution_count": 17,
     "metadata": {},
     "output_type": "execute_result"
    }
   ],
   "source": [
    "np.min(b)"
   ]
  },
  {
   "cell_type": "code",
   "execution_count": 18,
   "metadata": {},
   "outputs": [
    {
     "data": {
      "text/plain": [
       "59.177698502053964"
      ]
     },
     "execution_count": 18,
     "metadata": {},
     "output_type": "execute_result"
    }
   ],
   "source": [
    "np.std(b)"
   ]
  },
  {
   "cell_type": "code",
   "execution_count": 19,
   "metadata": {},
   "outputs": [
    {
     "data": {
      "text/plain": [
       "3502.0"
      ]
     },
     "execution_count": 19,
     "metadata": {},
     "output_type": "execute_result"
    }
   ],
   "source": [
    "np.var(b)"
   ]
  },
  {
   "cell_type": "code",
   "execution_count": 20,
   "metadata": {},
   "outputs": [],
   "source": [
    "c= np.array(data[\"price\"])"
   ]
  },
  {
   "cell_type": "code",
   "execution_count": 21,
   "metadata": {},
   "outputs": [
    {
     "data": {
      "text/plain": [
       "array([13495.   , 16500.   , 16500.   , 13950.   , 17450.   , 15250.   ,\n",
       "       17710.   , 18920.   , 23875.   , 17859.167, 16430.   , 16925.   ,\n",
       "       20970.   , 21105.   , 24565.   , 30760.   , 41315.   , 36880.   ,\n",
       "        5151.   ,  6295.   ,  6575.   ,  5572.   ,  6377.   ,  7957.   ,\n",
       "        6229.   ,  6692.   ,  7609.   ,  8558.   ,  8921.   , 12964.   ,\n",
       "             nan,       nan,  5399.   ,  6529.   ,       nan,  7295.   ,\n",
       "        7295.   ,       nan,  9095.   ,  8845.   , 10295.   , 12945.   ,\n",
       "       10345.   ,       nan,  8916.5  ,  8916.5  ,       nan, 32250.   ,\n",
       "       35550.   ,       nan,  5195.   ,       nan,       nan,       nan,\n",
       "        7395.   ,       nan, 11845.   , 13645.   , 15645.   ,  8845.   ,\n",
       "             nan, 10595.   , 10245.   ,       nan, 11245.   ,       nan,\n",
       "       18344.   , 25552.   , 28248.   , 28176.   , 31600.   , 34184.   ,\n",
       "       35056.   , 40960.   ,       nan, 16503.   ,  5389.   ,  6189.   ,\n",
       "        6669.   ,  7689.   ,  9959.   ,  8499.   , 12629.   , 14869.   ,\n",
       "       14489.   ,  6989.   ,  8189.   ,  9279.   ,  9279.   ,  5499.   ,\n",
       "        7099.   ,       nan,  6849.   ,  7349.   ,  7299.   ,       nan,\n",
       "        7499.   ,  7999.   ,       nan,  8949.   ,       nan, 13499.   ,\n",
       "       14399.   , 13499.   ,       nan, 19699.   ,       nan,       nan,\n",
       "       13200.   , 12440.   , 13860.   , 15580.   , 16900.   , 16695.   ,\n",
       "             nan, 16630.   , 17950.   , 18150.   ,  5572.   ,  7957.   ,\n",
       "             nan,       nan,  7609.   ,  8921.   , 12764.   ,       nan,\n",
       "       32528.   , 34028.   , 37028.   , 31400.5  ,  9295.   ,  9895.   ,\n",
       "       11850.   , 12170.   , 15040.   ,       nan, 18150.   , 18620.   ,\n",
       "        5118.   ,  7053.   ,  7603.   ,  7126.   ,       nan,  9960.   ,\n",
       "        9233.   , 11259.   ,       nan, 10198.   ,       nan, 11694.   ,\n",
       "        5348.   ,  6338.   ,  6488.   ,  6918.   ,  7898.   ,  8778.   ,\n",
       "        6938.   ,       nan,  7898.   ,  7788.   ,       nan,  8358.   ,\n",
       "        9258.   ,       nan,  8238.   ,  9298.   ,  9538.   ,       nan,\n",
       "        9639.   ,  9989.   , 11199.   , 11549.   , 17669.   ,       nan,\n",
       "       10698.   ,  9988.   , 10898.   , 11248.   , 16558.   , 15998.   ,\n",
       "       15690.   , 15750.   ,  7775.   ,  7975.   ,  7995.   ,  8195.   ,\n",
       "        8495.   ,  9495.   ,  9995.   , 11595.   ,       nan,       nan,\n",
       "       13845.   , 12290.   , 12940.   , 13415.   ,       nan, 16515.   ,\n",
       "             nan,       nan,       nan, 19045.   , 21485.   , 22470.   ,\n",
       "       22625.   ])"
      ]
     },
     "execution_count": 21,
     "metadata": {},
     "output_type": "execute_result"
    }
   ],
   "source": [
    "c"
   ]
  },
  {
   "cell_type": "code",
   "execution_count": 22,
   "metadata": {},
   "outputs": [
    {
     "data": {
      "text/plain": [
       "nan"
      ]
     },
     "execution_count": 22,
     "metadata": {},
     "output_type": "execute_result"
    }
   ],
   "source": [
    "np.mean(c)"
   ]
  },
  {
   "cell_type": "code",
   "execution_count": 23,
   "metadata": {},
   "outputs": [
    {
     "data": {
      "text/plain": [
       "nan"
      ]
     },
     "execution_count": 23,
     "metadata": {},
     "output_type": "execute_result"
    }
   ],
   "source": [
    "np.median(c)"
   ]
  },
  {
   "cell_type": "code",
   "execution_count": 24,
   "metadata": {},
   "outputs": [
    {
     "data": {
      "text/plain": [
       "nan"
      ]
     },
     "execution_count": 24,
     "metadata": {},
     "output_type": "execute_result"
    }
   ],
   "source": [
    "np.std(c)"
   ]
  },
  {
   "cell_type": "code",
   "execution_count": 25,
   "metadata": {},
   "outputs": [],
   "source": [
    "e = np.array(data['wheelbase'])"
   ]
  },
  {
   "cell_type": "code",
   "execution_count": 26,
   "metadata": {},
   "outputs": [
    {
     "data": {
      "text/plain": [
       "array([ 88.6,  88.6,  94.5,  99.8,  99.4,  99.8, 105.8, 105.8, 105.8,\n",
       "        99.5, 101.2, 101.2, 101.2, 101.2, 103.5, 103.5, 103.5, 110. ,\n",
       "        88.4,  94.5,  94.5,  93.7,  93.7,  93.7,  93.7,  93.7,  93.7,\n",
       "        93.7, 103.3,  95.9,  86.6,  86.6,  93.7,  93.7,  93.7,  96.5,\n",
       "        96.5,  96.5,  96.5,  96.5,  96.5,  96.5,  96.5,  94.3,  94.5,\n",
       "        94.5,  96. , 113. , 113. , 102. ,  93.1,  93.1,  93.1,  93.1,\n",
       "        93.1,  95.3,  95.3,  95.3,  95.3,  98.8,  98.8,  98.8,  98.8,\n",
       "        98.8,  98.8, 104.9, 104.9, 110. , 110. , 106.7, 115.6, 115.6,\n",
       "        96.6, 120.9, 112. , 102.7,  93.7,  93.7,  93.7,  93. ,  96.3,\n",
       "        96.3,  95.9,  95.9,  95.9,  96.3,  96.3,  96.3,  96.3,  94.5,\n",
       "        94.5,  94.5,  94.5,  94.5,  94.5,  94.5,  94.5,  94.5,  95.1,\n",
       "        97.2,  97.2, 100.4, 100.4, 100.4,  91.3,  91.3,  99.2, 107.9,\n",
       "       107.9, 114.2, 114.2, 107.9, 107.9, 114.2, 114.2, 107.9, 107.9,\n",
       "       108. ,  93.7,  93.7,  93.7,  93.7,  93.7, 103.3,  95.9,  94.5,\n",
       "        89.5,  89.5,  89.5,  98.4,  96.1,  96.1,  99.1,  99.1,  99.1,\n",
       "        99.1,  99.1,  99.1,  93.7,  93.7,  93.3,  97.2,  97.2,  97.2,\n",
       "        97. ,  97. ,  97. ,  97. ,  96.9,  96.9,  95.7,  95.7,  95.7,\n",
       "        95.7,  95.7,  95.7,  95.7,  95.7,  95.7,  95.7,  95.7,  95.7,\n",
       "        95.7,  94.5,  94.5,  94.5,  94.5,  98.4,  98.4,  98.4,  98.4,\n",
       "        98.4,  98.4, 102.4, 102.4, 102.4, 102.4, 102.4, 102.9, 102.9,\n",
       "       104.5, 104.5,  97.3,  97.3,  97.3,  97.3,  97.3,  97.3,  97.3,\n",
       "        94.5,  94.5, 100.4, 100.4, 100.4, 104.3, 104.3, 104.3, 104.3,\n",
       "       104.3, 104.3, 109.1, 109.1, 109.1, 109.1, 109.1])"
      ]
     },
     "execution_count": 26,
     "metadata": {},
     "output_type": "execute_result"
    }
   ],
   "source": [
    "e"
   ]
  },
  {
   "cell_type": "code",
   "execution_count": 27,
   "metadata": {},
   "outputs": [
    {
     "data": {
      "text/plain": [
       "98.75658536585367"
      ]
     },
     "execution_count": 27,
     "metadata": {},
     "output_type": "execute_result"
    }
   ],
   "source": [
    "np.mean(e)"
   ]
  },
  {
   "cell_type": "code",
   "execution_count": 28,
   "metadata": {},
   "outputs": [
    {
     "data": {
      "text/plain": [
       "97.0"
      ]
     },
     "execution_count": 28,
     "metadata": {},
     "output_type": "execute_result"
    }
   ],
   "source": [
    "np.median(e)"
   ]
  },
  {
   "cell_type": "code",
   "execution_count": 29,
   "metadata": {},
   "outputs": [
    {
     "data": {
      "text/plain": [
       "120.9"
      ]
     },
     "execution_count": 29,
     "metadata": {},
     "output_type": "execute_result"
    }
   ],
   "source": [
    "np.max(e)"
   ]
  },
  {
   "cell_type": "code",
   "execution_count": 30,
   "metadata": {},
   "outputs": [
    {
     "data": {
      "text/plain": [
       "86.6"
      ]
     },
     "execution_count": 30,
     "metadata": {},
     "output_type": "execute_result"
    }
   ],
   "source": [
    "np.min(e)"
   ]
  },
  {
   "cell_type": "code",
   "execution_count": 31,
   "metadata": {},
   "outputs": [
    {
     "data": {
      "text/plain": [
       "6.007070472147536"
      ]
     },
     "execution_count": 31,
     "metadata": {},
     "output_type": "execute_result"
    }
   ],
   "source": [
    "np.std(e)"
   ]
  },
  {
   "cell_type": "code",
   "execution_count": 32,
   "metadata": {},
   "outputs": [
    {
     "data": {
      "text/plain": [
       "36.08489565734682"
      ]
     },
     "execution_count": 32,
     "metadata": {},
     "output_type": "execute_result"
    }
   ],
   "source": [
    "np.var(e)"
   ]
  },
  {
   "cell_type": "code",
   "execution_count": 33,
   "metadata": {},
   "outputs": [],
   "source": [
    "f = np.array(data['carlength'])"
   ]
  },
  {
   "cell_type": "code",
   "execution_count": 34,
   "metadata": {},
   "outputs": [
    {
     "data": {
      "text/plain": [
       "array([168.8, 168.8, 171.2, 176.6, 176.6, 177.3, 192.7, 192.7, 192.7,\n",
       "       178.2, 176.8, 176.8, 176.8, 176.8, 189. , 189. , 193.8, 197. ,\n",
       "       141.1, 155.9, 158.8, 157.3, 157.3, 157.3, 157.3, 157.3, 157.3,\n",
       "       157.3, 174.6, 173.2, 144.6, 144.6, 150. , 150. , 150. , 163.4,\n",
       "       157.1, 167.5, 167.5, 175.4, 175.4, 175.4, 169.1, 170.7, 155.9,\n",
       "       155.9, 172.6, 199.6, 199.6, 191.7, 159.1, 159.1, 159.1, 166.8,\n",
       "       166.8, 169. , 169. , 169. , 169. , 177.8, 177.8, 177.8, 177.8,\n",
       "       177.8, 177.8, 175. , 175. , 190.9, 190.9, 187.5, 202.6, 202.6,\n",
       "       180.3, 208.1, 199.2, 178.4, 157.3, 157.3, 157.3, 157.3, 173. ,\n",
       "       173. , 173.2, 173.2, 173.2, 172.4, 172.4, 172.4, 172.4, 165.3,\n",
       "       165.3, 165.3, 165.3, 170.2, 165.3, 165.6, 165.3, 170.2, 162.4,\n",
       "       173.4, 173.4, 181.7, 184.6, 184.6, 170.7, 170.7, 178.5, 186.7,\n",
       "       186.7, 198.9, 198.9, 186.7, 186.7, 198.9, 198.9, 186.7, 186.7,\n",
       "       186.7, 157.3, 157.3, 157.3, 167.3, 167.3, 174.6, 173.2, 168.9,\n",
       "       168.9, 168.9, 168.9, 175.7, 181.5, 176.8, 186.6, 186.6, 186.6,\n",
       "       186.6, 186.6, 186.6, 156.9, 157.9, 157.3, 172. , 172. , 172. ,\n",
       "       172. , 172. , 173.5, 173.5, 173.6, 173.6, 158.7, 158.7, 158.7,\n",
       "       169.7, 169.7, 169.7, 166.3, 166.3, 166.3, 166.3, 166.3, 166.3,\n",
       "       166.3, 168.7, 168.7, 168.7, 168.7, 176.2, 176.2, 176.2, 176.2,\n",
       "       176.2, 176.2, 175.6, 175.6, 175.6, 175.6, 175.6, 183.5, 183.5,\n",
       "       187.8, 187.8, 171.7, 171.7, 171.7, 171.7, 171.7, 171.7, 171.7,\n",
       "       159.3, 165.7, 180.2, 180.2, 183.1, 188.8, 188.8, 188.8, 188.8,\n",
       "       188.8, 188.8, 188.8, 188.8, 188.8, 188.8, 188.8])"
      ]
     },
     "execution_count": 34,
     "metadata": {},
     "output_type": "execute_result"
    }
   ],
   "source": [
    "f"
   ]
  },
  {
   "cell_type": "code",
   "execution_count": 35,
   "metadata": {},
   "outputs": [
    {
     "data": {
      "text/plain": [
       "174.04926829268288"
      ]
     },
     "execution_count": 35,
     "metadata": {},
     "output_type": "execute_result"
    }
   ],
   "source": [
    "np.mean(f)"
   ]
  },
  {
   "cell_type": "code",
   "execution_count": 36,
   "metadata": {},
   "outputs": [
    {
     "data": {
      "text/plain": [
       "173.2"
      ]
     },
     "execution_count": 36,
     "metadata": {},
     "output_type": "execute_result"
    }
   ],
   "source": [
    "np.median(f)"
   ]
  },
  {
   "cell_type": "code",
   "execution_count": 37,
   "metadata": {},
   "outputs": [
    {
     "data": {
      "text/plain": [
       "208.1"
      ]
     },
     "execution_count": 37,
     "metadata": {},
     "output_type": "execute_result"
    }
   ],
   "source": [
    "np.max(f)"
   ]
  },
  {
   "cell_type": "code",
   "execution_count": 38,
   "metadata": {},
   "outputs": [
    {
     "data": {
      "text/plain": [
       "141.1"
      ]
     },
     "execution_count": 38,
     "metadata": {},
     "output_type": "execute_result"
    }
   ],
   "source": [
    "np.min(f)"
   ]
  },
  {
   "cell_type": "code",
   "execution_count": 39,
   "metadata": {},
   "outputs": [
    {
     "data": {
      "text/plain": [
       "12.307160792874917"
      ]
     },
     "execution_count": 39,
     "metadata": {},
     "output_type": "execute_result"
    }
   ],
   "source": [
    "np.std(f)"
   ]
  },
  {
   "cell_type": "code",
   "execution_count": 40,
   "metadata": {},
   "outputs": [
    {
     "data": {
      "text/plain": [
       "151.46620678167756"
      ]
     },
     "execution_count": 40,
     "metadata": {},
     "output_type": "execute_result"
    }
   ],
   "source": [
    "np.var(f)"
   ]
  },
  {
   "cell_type": "code",
   "execution_count": null,
   "metadata": {},
   "outputs": [],
   "source": []
  }
 ],
 "metadata": {
  "kernelspec": {
   "display_name": "base",
   "language": "python",
   "name": "python3"
  },
  "language_info": {
   "codemirror_mode": {
    "name": "ipython",
    "version": 3
   },
   "file_extension": ".py",
   "mimetype": "text/x-python",
   "name": "python",
   "nbconvert_exporter": "python",
   "pygments_lexer": "ipython3",
   "version": "3.11.7"
  }
 },
 "nbformat": 4,
 "nbformat_minor": 2
}
